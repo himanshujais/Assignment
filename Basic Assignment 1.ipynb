{
 "cells": [
  {
   "cell_type": "raw",
   "id": "9f38cb0a",
   "metadata": {},
   "source": [
    "# 1. In the below elements which of them are values or an expression? eg:- values can be integer or string and expressions will be mathematical operators.\n",
    "\n",
    "Values - 'hello' , -87.8 , 6 \n",
    "Expression - * , - , / , +\n"
   ]
  },
  {
   "cell_type": "raw",
   "id": "f2163067",
   "metadata": {},
   "source": [
    "2. What is the difference between string and variable?\n",
    "\n",
    "String - string can't store any value, String is denoted by \"\" or '', inside which characters can be stored.\n",
    "\n",
    "Variable - it can store a string, and can be changed at any time by changing the value assigned to the variable."
   ]
  },
  {
   "cell_type": "raw",
   "id": "e9cb7bfc",
   "metadata": {},
   "source": [
    "3. Describe three different data types.\n",
    "\n",
    "Data types are - int, float, complex no, boolean, dict, set, str, tuple, list.\n",
    "\n",
    "There are many data types."
   ]
  },
  {
   "cell_type": "raw",
   "id": "83bb3e62",
   "metadata": {},
   "source": [
    "4. What is an expression made up of? What do all expressions do?\n",
    "\n",
    "Expression are made of variable, value, function and operators.\n",
    "Expression gets evaluated after we run the expression in python, and it will give a result."
   ]
  },
  {
   "cell_type": "raw",
   "id": "bb3dfb43",
   "metadata": {},
   "source": [
    "5. This assignment statements, like spam = 10. What is the difference between an expression and a statement?\n",
    "\n",
    "spam = 10\n",
    "This is a expression and a statement also.\n",
    "In this, it is executing, and also storing the value in variable.\n",
    "\n",
    "So, statement do something what statement says, but expression evaluates the statement."
   ]
  },
  {
   "cell_type": "raw",
   "id": "7a19707a",
   "metadata": {},
   "source": [
    "6. After running the following code, what does the variable bacon contain?\n",
    "bacon = 22\n",
    "bacon + 1\n",
    "\n",
    "After execution, the code will give the output as 23.\n",
    "But, variable bacon still contains 22."
   ]
  },
  {
   "cell_type": "raw",
   "id": "51e6114f",
   "metadata": {},
   "source": [
    "7. What should the values of the following two terms be?\n",
    "'spam' + 'spamspam'\n",
    "'spam' * 3\n",
    "\n",
    "It will give the same output."
   ]
  },
  {
   "cell_type": "code",
   "execution_count": 8,
   "id": "b8e5ad49",
   "metadata": {},
   "outputs": [
    {
     "data": {
      "text/plain": [
       "'spamspamspam'"
      ]
     },
     "execution_count": 8,
     "metadata": {},
     "output_type": "execute_result"
    }
   ],
   "source": [
    "'spam' + 'spamspam'"
   ]
  },
  {
   "cell_type": "code",
   "execution_count": 10,
   "id": "9b24f196",
   "metadata": {},
   "outputs": [
    {
     "data": {
      "text/plain": [
       "'spamspamspam'"
      ]
     },
     "execution_count": 10,
     "metadata": {},
     "output_type": "execute_result"
    }
   ],
   "source": [
    "'spam' * 3"
   ]
  },
  {
   "cell_type": "raw",
   "id": "5c1eda31",
   "metadata": {},
   "source": [
    "8. Why is eggs a valid variable name while 100 is invalid?\n",
    "\n",
    "Because 100 will be treated as an integer, it is a fixed value. \n",
    "Variables cannot begin with numbers. Initially an alphabet is required for the variable.\n",
    "Eg - a10, b2, abc"
   ]
  },
  {
   "cell_type": "raw",
   "id": "541d522e",
   "metadata": {},
   "source": [
    "9. What three functions can be used to get the integer, floating-point number, or string\n",
    "version of a value?\n",
    "\n",
    "Integer - int()\n",
    "Floating-point number - float()\n",
    "String - str()"
   ]
  },
  {
   "cell_type": "raw",
   "id": "e9426d90",
   "metadata": {},
   "source": [
    "10. Why does this expression cause an error? How can you fix it?\n",
    "'I have eaten'+99+'burritos.'\n",
    "\n",
    "Because we can only concatenate string to string, not to integer with the + operator.\n",
    "\n",
    "Correct way 'I have eaten '+str(99)+' burritos.'"
   ]
  }
 ],
 "metadata": {
  "kernelspec": {
   "display_name": "Python 3 (ipykernel)",
   "language": "python",
   "name": "python3"
  },
  "language_info": {
   "codemirror_mode": {
    "name": "ipython",
    "version": 3
   },
   "file_extension": ".py",
   "mimetype": "text/x-python",
   "name": "python",
   "nbconvert_exporter": "python",
   "pygments_lexer": "ipython3",
   "version": "3.9.7"
  }
 },
 "nbformat": 4,
 "nbformat_minor": 5
}
